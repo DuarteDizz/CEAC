{
 "cells": [
  {
   "cell_type": "markdown",
   "id": "b1f8b1b4",
   "metadata": {},
   "source": [
    "# Minicurso Python\n",
    "------------------------\n",
    "Clube de Engenharia Assistida por Computador <br><br>\n",
    "Feito e Elaborado por: Diego Duarte | @duarte_dizz\n",
    "\n",
    "--------------------------\n",
    "Instagram do CEAC: <https://www.instagram.com/ceac_ufsj/>"
   ]
  },
  {
   "cell_type": "markdown",
   "id": "92e3e981",
   "metadata": {},
   "source": [
    "## Bibliotecas\n",
    "--------------\n",
    "\n",
    "Algumas Bibliotecas serão necessárias durante o curso de Termodinâmica II, mas o que são elas, e como utilizá-las?\n",
    "\n",
    "Para importar uma biblioteca, basta seguir a lógica desta linha de comando:\n",
    "\n",
    "* Importando uma biblioteca e todo o seu conteúdo:\n",
    "\n",
    "```Python\n",
    "import biblioteca\n",
    "```\n",
    "> A importação de toda a biblioteca, implica no fato de que você deve **SEMPRE** especificar o nome do módulo que quer utilizar\n",
    "seguido do nome da biblioteca, separado por um ponto (.)\n",
    "\n",
    "* Importando apenas um módulo de uma biblioteca:\n",
    "\n",
    "```Python\n",
    "from biblioteca import módulo\n",
    "```\n",
    "> Ao se importar apenas um módulo de uma biblioteca, o nome da biblioteca já está implícito no módulo que utilizamos.\n",
    "\n",
    "### Apelidando uma Biblioteca\n",
    "-----------------------------------\n",
    "\n",
    "É possível também, abreviar nomes de bibliotecas, dando a elas um apelido. Para fazer isso, basta utilizar o operador **as**:\n",
    "\n",
    "```Python\n",
    "import bibioteca as apelido\n",
    "```\n",
    "> Uma biblioteca apelidada tem o mesmo funcionamento de importação de toda a biblioteca, porém, o nome é substituído pelo apelido."
   ]
  },
  {
   "cell_type": "code",
   "execution_count": 3,
   "id": "42f07c94",
   "metadata": {},
   "outputs": [
    {
     "name": "stdout",
     "output_type": "stream",
     "text": [
      "2.718281828459045\n"
     ]
    }
   ],
   "source": [
    "#EXEMPLO 1\n",
    "\n",
    "import numpy\n",
    "\n",
    "e = numpy.exp(1) #Note que o nome do módulo é separado do nome da biblioteca por um ponto | \"biblioteca.módulo\"\n",
    "print(e)"
   ]
  },
  {
   "cell_type": "code",
   "execution_count": 4,
   "id": "aa22abc7",
   "metadata": {},
   "outputs": [
    {
     "name": "stdout",
     "output_type": "stream",
     "text": [
      "2.718281828459045\n"
     ]
    }
   ],
   "source": [
    "#EXEMPLO 2\n",
    "\n",
    "from numpy import exp\n",
    "\n",
    "e = exp(1) #Note que o nome da biblioteca, neste caso, não é mais necessário\n",
    "print(e)"
   ]
  },
  {
   "cell_type": "code",
   "execution_count": 5,
   "id": "2a63b486",
   "metadata": {},
   "outputs": [
    {
     "name": "stdout",
     "output_type": "stream",
     "text": [
      "2.718281828459045\n"
     ]
    }
   ],
   "source": [
    "#EXEMPLO 3\n",
    "\n",
    "import numpy as np\n",
    "\n",
    "e = np.exp(1) #Note que o nome da biblioteca foi substituído pelo apelido | \"apelido.módulo\"\n",
    "print(e)"
   ]
  },
  {
   "cell_type": "markdown",
   "id": "c93da949",
   "metadata": {},
   "source": [
    "## Tipos de Operadores\n",
    "---------------------\n",
    "\n",
    "Existem variados tipos de operadores no Python, são eles:\n",
    "* Operadores Aritméticos\n",
    "* Operadores de Atribuição\n",
    "* Operadores de Comparação\n",
    "* Operadores de Lógicos\n",
    "* Operadores de Identidade\n",
    "* Operadores de Associação\n",
    "\n",
    "Nem todos eles serão foco deste minicurso, mas todos são úteis e valem a pena ser estudados.\n",
    "\n",
    "### Operadores Aritméticos\n",
    "------------------------\n",
    "Usados na execução de operações matemáticas\n",
    "\n",
    "```+``` Realiza soma ou adiciona sinal positivo ao número. <br>\n",
    "```-``` Realiza subtração ou adiciona sinal negativo ao número. <br>\n",
    "```*``` Realiza multiplicação entre os operandos. <br>\n",
    "```/``` Realiza uma divisão entre os operandos. <br>\n",
    "```//``` Realiza uma divisão inteira entre os operandos | **DESCARTA A PARTE DECIMAL**. <br>\n",
    "```%``` Retorna **APENAS** o resto de uma divisão não inteira. <br>\n",
    "```**``` Realiza a exponenciação de um número por outro. </p>"
   ]
  },
  {
   "cell_type": "code",
   "execution_count": 17,
   "id": "3c0b2d3f",
   "metadata": {},
   "outputs": [
    {
     "name": "stdout",
     "output_type": "stream",
     "text": [
      "Soma = 7\n",
      "Subtração = 3\n",
      "Multiplicação = 10\n",
      "Divisão = 2.5\n",
      "Divisão Inteira = 2\n",
      "Resto da Divisão = 1\n",
      "Exponenciação = 25\n"
     ]
    }
   ],
   "source": [
    "#EXEMPLO\n",
    "num1 = 5\n",
    "num2 = 2\n",
    "\n",
    "print(\"Soma =\",num1 + num2)\n",
    "print(\"Subtração =\",num1 - num2)\n",
    "print(\"Multiplicação =\",num1 * num2)\n",
    "print(\"Divisão =\",num1 / num2)\n",
    "print(\"Divisão Inteira =\",num1 // num2)\n",
    "print(\"Resto da Divisão =\",num1 % num2)\n",
    "print(\"Exponenciação =\",num1 ** num2)"
   ]
  },
  {
   "cell_type": "markdown",
   "id": "013514ce",
   "metadata": {},
   "source": [
    "### Operadores de Comparação\n",
    "-----------------\n",
    "Usados para comparar valores, retornam ```True``` se a condição for verdadeira e ```False``` se falsa. Ao utilizar estes operadores, torna-se possível criar e checar condições nos códigos.\n",
    "\n",
    "```>``` Verifica se um valor é maior que outro. <br>\n",
    "```<``` Verifica se um valor é menor que outro. <br>\n",
    "```==``` Verifica se um valor é igual a outro. <br>\n",
    "```!=``` Verifica se os valores são diferentes. <br>\n",
    "```>=``` Verifica se um valor é maior ou igual a outro. <br>\n",
    "```<=``` Verifica se um valor é menor ou igual a outro. <br>\n",
    "\n",
    "### Operadores Lógicos\n",
    "-------------------\n",
    "São utilizados para unir uma ou mais operações condicionais\n",
    "\n",
    "```and``` Retorna ```True``` se todas as condições forem ```Verdadeiras```, caso contrário, retorna ```False```. <br>\n",
    "```or``` Retorna ```True``` se uma das condições forem ```Verdadeiras```, caso contrário, retorna ```False```. <br>\n",
    "```not``` Inverte o resultado da operação, se a operação for ```True```, retorna ```False``` e vice-versa. <br>\n",
    "\n",
    "### Operadores de Associação\n",
    "---------------\n",
    "São utilizados para checar se uma sequência contém um objeto\n",
    "\n",
    "```in``` Retorna ```True``` caso o valor seja encontrado na sequência <br>\n",
    "```not in``` Retorna ```True``` caso o valor **não seja** encontrado na sequência <br>\n",
    "\n",
    "## Funções Básicas\n",
    "-------------\n",
    "### Funções de Tipo\n",
    "----------------\n",
    "O Python apresenta 3 principais funções de tipo que serão utilizadas durante o curso, são elas: <br>\n",
    "\n",
    "```str()``` Transforma a variável em texto. <br>\n",
    "```int()``` Transforma a variável em um número inteiro. <br>\n",
    "```float()``` Transforma a variável em um número flutuante (com variadas casas decimais). <br>"
   ]
  },
  {
   "cell_type": "code",
   "execution_count": 21,
   "id": "d4b02dad",
   "metadata": {},
   "outputs": [
    {
     "name": "stdout",
     "output_type": "stream",
     "text": [
      "Inteiro: 10\n",
      "Flutuante: 10.987654321\n",
      "Texto: 10\n"
     ]
    }
   ],
   "source": [
    "#EXEMPLO 1\n",
    "\n",
    "inteiro = int(10)\n",
    "flutuante = float(10.987654321)\n",
    "texto = str(10)\n",
    "\n",
    "print(\"Inteiro:\",inteiro)\n",
    "print(\"Flutuante:\",flutuante)\n",
    "print(\"Texto:\",texto)"
   ]
  },
  {
   "cell_type": "markdown",
   "id": "75c32ce1",
   "metadata": {},
   "source": [
    "### O Print e o Input\n",
    "-------------\n",
    "Podemos utlizar outras funções básicas do Python, como o ```print()``` e o ```input()``` para gerar respostas e interações no terminal.\n",
    "\n",
    "#### Imprimindo Textos\n",
    "--------------\n",
    "Para utilizar o Print, basta utlilizar a sintaxe:\n",
    "```Python\n",
    "print(\"Texto a ser imprimido.\")\n",
    "```\n",
    "> **Note que o texto deve ser colocado entre aspas, pois é assim que o Python reconhece o que foi escrito como uma string.**\n",
    "\n",
    "#### Formatando com o Print\n",
    "-------------\n",
    "Também é possível utilizar formatações com o ```print()``` para isto, basta usar o que chamamos de uma ```fstring```, com o auxílio da ferramenta ```{}```.\n",
    "\n",
    "* A formatação de texto utilizando o print pode ser feita da seguinte maneira:\n",
    "```Python\n",
    "nome = \"Dizz\"\n",
    "print(f\"Olá, eu sou o {nome}!\")\n",
    "```\n",
    "> Perceba que antes de abrir aspas (\"), utilizamos a letra **f**, isso faz com que nosso print suporte uma fstring.\n",
    "> Além disso, utilizamos a ferramenta ```{}```, isso fará com que o python, substitua essa parte do print, com o valor da variável que se encontra ali dentro.\n",
    "\n",
    "* Há também a possibilidade de arredondar elementos utilizando essa mesma feramenta, caso estejamos trabalhando com um valor com várias casas decimais, podemos limitar esses valores após a vírgula, da seguinte forma:\n",
    "```Python\n",
    "pi = float(3.14159265358979323846)\n",
    "print(f\"O número pi formatado com 4 casas decimais é: {pi:.4f}\")\n",
    "```\n",
    "> O número utilizado antes do f, na sintaxe ```{x:.nf}``` representa o número de casas decimais a serem aproximadas, e o valor x, representa a variável a ser formatada.\n",
    "\n",
    "Pode ser que tudo isso tenha ficado um pouco confuso, então, vamos aos exemplos!"
   ]
  },
  {
   "cell_type": "code",
   "execution_count": 3,
   "id": "beddfc86",
   "metadata": {},
   "outputs": [
    {
     "name": "stdout",
     "output_type": "stream",
     "text": [
      "Olá Mundo!\n",
      "Olá, eu sou o Dizz!\n",
      "Antes da formatação: 3.141592653589793\n",
      "Depois da formatação: 3.1416\n"
     ]
    }
   ],
   "source": [
    "#IMPRIMINDO TEXTOS\n",
    "\n",
    "print(\"Olá Mundo!\")\n",
    "\n",
    "#FORMATAÇÃO COM O PRINT\n",
    "\n",
    "nome = \"Dizz\"\n",
    "print(f\"Olá, eu sou o {nome}!\")\n",
    "\n",
    "#FORMATAÇÃO DECIMAL\n",
    "from math import pi\n",
    "pi = pi\n",
    "print(f\"Antes da formatação: {pi}\")\n",
    "print(f\"Depois da formatação: {pi:.4f}\")\n"
   ]
  },
  {
   "cell_type": "markdown",
   "id": "8386df20",
   "metadata": {},
   "source": [
    "#### O Input\n",
    "-------------\n",
    "O ```input()``` serve como um meio de interagir com o usuário, de forma que uma resposta deva ser digitada no terminal.\n",
    "utilizar essa ferramenta é muito simples, basta usar a sintaxe:\n",
    "\n",
    "```Python\n",
    "input(\"Solicitaão a ser feita ao usuário: \")\n",
    "```\n",
    "\n",
    "### Funções Agregadas\n",
    "---------------\n",
    "Podemos fazer uso de tudo que foi aprendido até agora, na forma de funções ageragas, isto é, combinar as funções umas ocm as outras. <br>\n",
    "<br> O ```Python``` segue sua lógica de \"dentro para fora\", isso significa que o resultado de uma função dentro de um parêntese, é manipulado pela função mais a fora dele. Por exemplo:\n",
    "\n",
    "```Python\n",
    "float(input(\"Insira um número inteiro: \"))\n",
    "```\n",
    "\n",
    "No código acima, o programa irá pedir ao usuário que insira um número flutuante. A resposta do usuário, se tornará o resultado do input. Supondo que o número entrado pelo usuário fosse 5, o código entenderia assim:\n",
    "\n",
    "```Python\n",
    "float(5)\n",
    "```\n",
    "\n",
    "E dessa forma, retornará o número 5 como um número do tipo flutuante, ou seja, 5.0!\n",
    "Pronto, funções agregadas são mais simples do que parecem, não são?\n",
    "\n"
   ]
  },
  {
   "cell_type": "code",
   "execution_count": 5,
   "id": "96c743fe",
   "metadata": {},
   "outputs": [
    {
     "name": "stdout",
     "output_type": "stream",
     "text": [
      "Número inteiro: 13\n",
      "O número escolhido pelo usuário foi 13\n"
     ]
    }
   ],
   "source": [
    "#EXEMPLO\n",
    "\n",
    "num = int(input(\"Número inteiro: \"))\n",
    "print(f\"O número escolhido pelo usuário foi {num}\")\n"
   ]
  },
  {
   "cell_type": "markdown",
   "id": "e8f4bd08",
   "metadata": {},
   "source": [
    "### Estruturas Condicionais\n",
    "---------------\n",
    "\n",
    "Vocês se lembram dos tipos de operadores? Lembram que os operadores lógicos eram utilizados para testar condições? Pois bem, é aqui que eles se encaixam, o ```if``` é uma ferramenta que testa condições, junto com os seus irmãos ```elif``` e ```else```. Vamos à explicação de cada um deles:\n",
    "\n",
    "* **If:** O ```if``` testa se uma condição expressa no código foi satisfeita, se sim, retorna o valor de ```True``` e executa o código dentro dele. Caso contrário, retorna ```False```. <br> <br>\n",
    "\n",
    "* **Else:** O ```else``` deve sempre acompanhar o ```if```, é ele que diz ao ```Python``` o que fazer caso a condição expressa no ```if``` retorne ```False```. <br> <br>\n",
    "* **Elif:** O ```elif``` surge quando há uma condição intermediária a ser testada entre o ```if``` e o ```else```. Caso a condição do ```if``` não seja verdadeira, o ```elif``` é executado, e assim por diante, até que uma condição seja verdadeira ou o ```else``` seja alcançado. <br> <br>\n",
    "\n",
    "De forma mais simples, o funcionamento seria assim:\n",
    "\n",
    "se condição for Verdadeira:\n",
    "    executa um código aqui\n",
    "também se condição for Verdadeira:\n",
    "    executa outro código aqui\n",
    "caso contrário:\n",
    "    execute isto\n",
    "\n",
    "\n",
    "Porém, na linguagem do código:\n",
    "```Python\n",
    "if condição == True:\n",
    "    linha de código\n",
    "elif condição == True:\n",
    "    outra linha de código\n",
    "else:\n",
    "    código a ser executado caso nenhuma condição seja verdadeira\n",
    "```\n",
    "Mas onde entram os operadores lógicos? E como se dá uma estrutura de condição na prática? É isso o que veremos agora!\n",
    "\n",
    "#### Utilizando o And\n",
    "----------------\n",
    "\n",
    "O ```and``` é um operador lógico, que compara condições e checa se elas são verdadeiras, lembram? Vamos ver agora na prática como funciona uma estrutura ```if``` juntamente com o operador ```and```"
   ]
  },
  {
   "cell_type": "code",
   "execution_count": 7,
   "id": "3c837e9d",
   "metadata": {},
   "outputs": [
    {
     "name": "stdout",
     "output_type": "stream",
     "text": [
      "O combo está completo!\n"
     ]
    }
   ],
   "source": [
    "a = \"Hamburguer\"\n",
    "b = \"Refrigerante\"\n",
    "c = \"Batata Frita\"\n",
    "\n",
    "if a == \"Hamburguer\" and b == \"Refrigerante\" and c == \"Batata Frita\":\n",
    "    print(\"O combo está completo!\")\n",
    "else:\n",
    "    print(\"Há algo de errado com o combo!\")"
   ]
  },
  {
   "cell_type": "markdown",
   "id": "e38a1638",
   "metadata": {},
   "source": [
    "> Tente substituir a variável c para \"Sundae\" para ver o que acontece!\n",
    "\n",
    "#### Utilizando o Or\n",
    "---------------\n",
    "O ```or``` é um operador lógico que compara condições e checa se ao menos uma delas é verdadeira, não é? Vamos ver então, como ele funciona junto a uma estrutura ```if```:"
   ]
  },
  {
   "cell_type": "code",
   "execution_count": 9,
   "id": "efd1e959",
   "metadata": {},
   "outputs": [
    {
     "name": "stdout",
     "output_type": "stream",
     "text": [
      "Verdadeiro!\n"
     ]
    }
   ],
   "source": [
    "a = \"Chocolate\"\n",
    "b = \"Morango\"\n",
    "\n",
    "if a == \"Chocolate\" or b == \"Morango\":\n",
    "    print(\"Verdadeiro!\")\n",
    "\n",
    "else:\n",
    "    print(\"Falso!\")"
   ]
  },
  {
   "cell_type": "markdown",
   "id": "70d3294c",
   "metadata": {},
   "source": [
    "> Tente agora, substituir uma das variáveis para \"Baunilha\" e veja o que vai acontecer.\n",
    "\n",
    "#### Utilizando o Not\n",
    "---------------\n",
    "O ```not``` é um operador lógico que inverte o resultado do teste de uma condição, ou seja, se a condição era antes verdadeira, ela torna-se falsa, e vice-versa. Vamos ver ele em ação:"
   ]
  },
  {
   "cell_type": "code",
   "execution_count": 5,
   "id": "7bf8c657",
   "metadata": {},
   "outputs": [
    {
     "name": "stdout",
     "output_type": "stream",
     "text": [
      "Biscoito ou Bolacha? biscoito\n",
      "Exatamente, biscoito!\n"
     ]
    }
   ],
   "source": [
    "a = input(\"Biscoito ou Bolacha? \").lower()\n",
    "\n",
    "if not a == \"biscoito\":\n",
    "    print(\"É Biscoito, bis coi to, lalalalalala!\")\n",
    "\n",
    "else:\n",
    "    print(\"Exatamente, biscoito!\")  "
   ]
  },
  {
   "cell_type": "markdown",
   "id": "ddaab209",
   "metadata": {},
   "source": [
    "> No exemplo acima, ao inserir \"bolacha\" no ```input```, a condição se torna **Falsa**. Lembre-se de que a condição só é executada, caso seja verdadeira, porém, o ```not``` inverte esse valor, fazendo então com que a condição se torne **Verdadeira**. Tente mudar a condição do if para \"bolacha\" para ver o que acontece.\n",
    "\n",
    "### Estruturas de Repetição\n",
    "--------------\n",
    "Estruturas de repetição, ou ```loops``` são estruturas no python que repetem o código nelas descrito um dado número de vezes, ou até que uma condição seja satisfeita. Existem dois tipos de estruturas de repetição no ```Python```, são elas o ```for``` e o ```while```. Vamos ver como cada um deles funciona.\n",
    "\n",
    "#### Utilizando o For\n",
    "\n",
    "O ```for``` é uma estrutura de repetição **finita**, o que siginifica que ela executa o ```loop``` um determinado número de vezes, e, após isso, o código segue seu curso normalmente.\n",
    "\n",
    "Uma estrutura ```for``` segue a seguinte lógica:\n",
    "```Python\n",
    "para cada variável em um intervalo de a até b:\n",
    "    execute este código\n",
    "```\n",
    "\n",
    "Nos termos do código, podemos escrever isto da forma:\n",
    "```Python\n",
    "for i in range():\n",
    "    código\n",
    "```\n",
    "\n",
    "Mas o que é a função ```range()```? É isso o que veremos agora!\n",
    "\n",
    "#### A função range()\n",
    "--------------\n",
    "O ```range()``` é uma função no ```Python``` que define os limites de um ```loop``` a ser executado. Ela pode apresentar 3 fatores, o ```início```, o ```fim```, e o ```step```. A sintaxe da função funciona da seguinte forma:\n",
    "\n",
    "```Python\n",
    "for i in range(início,fim,step):\n",
    "    execute este código\n",
    "```\n",
    "* O ```início``` diz respeito a qual número deve iniciar a sequência. Este valor é **inclusivo**, o que significa que o ```Python``` começa a contar exatamente a partir do número digitado. <br> <br>\n",
    "\n",
    "* O ```fim``` diz respeito a qual número deve encerrar a sequência. Este valor, é **exclusivo**, o que significa que o ```Python``` termina a contagem **1 número antes do número especificado**. <br> <br>\n",
    "\n",
    "* O ```step``` nada mais é do que o passo da contagem, ou seja, de quanto em quanto o ```Python``` deve realizar a contagem.\n",
    "\n",
    "Pode ser que tudo isso tenha ficado um pouco confuso, então vamos a um exemplo:\n"
   ]
  },
  {
   "cell_type": "code",
   "execution_count": 8,
   "id": "d34218e5",
   "metadata": {},
   "outputs": [
    {
     "name": "stdout",
     "output_type": "stream",
     "text": [
      "Contagem de 1 a 10:\n",
      "1 2 3 4 5 6 7 8 9 10 \n",
      "Contagem com step = 2:\n",
      "0 2 4 6 8 10 "
     ]
    }
   ],
   "source": [
    "#EXEMPLO\n",
    "print(\"Contagem de 1 a 10:\")\n",
    "\n",
    "for i in range(1,11):\n",
    "    print(i, end=\" \")\n",
    "    \n",
    "print(\"\\nContagem com step = 2:\")\n",
    "\n",
    "for i in range(0,11,2):\n",
    "    print(i, end=\" \")"
   ]
  },
  {
   "cell_type": "markdown",
   "id": "d158c405",
   "metadata": {},
   "source": [
    "> Tente brincar com os valores do ```range()``` para ver o que acontece.\n",
    "\n",
    "#### Contadores e Somadores\n",
    "-----------------\n",
    "Existem algumas técnicas que podem ser utilizadas usando loops de repetição. Estas técnicas, funcionam tanto com o ```for``` quanto com o ```while```, vamos ver algumas delas aplicadas a estrutura ```for```, mas nada impede que elas sejam aplicadas também ao ```while```, entendido?\n",
    "\n",
    "Podemos utilizar ```contadores``` e ```somadores``` juntos a estruturas de repetição utilizando apenas o entendimento da estrutura de repetição. Vamos ver como eles funcionam:\n",
    "\n",
    "#### Contadores\n",
    "---------------\n",
    "Para usar contadores, é muito simples, basta definir uma variável auxiliar fora do ```loop```, e atualizar o seu valor a cada repetição dele, assim, teremos o número de vezes que a operação foi executada. A sintaxe se dá da seguinte forma:\n",
    "\n",
    "```Python\n",
    "contador = 0\n",
    "for i in range(1,11):\n",
    "    contador += 1\n",
    "    código a ser executado\n",
    "```\n",
    "Vamos ver como funciona de maneira melhor aplicando isso a um exemplo. Aqui, queremos contar o número de vezes que o ```loop``` foi executado:"
   ]
  },
  {
   "cell_type": "code",
   "execution_count": 13,
   "id": "3430cb22",
   "metadata": {},
   "outputs": [
    {
     "name": "stdout",
     "output_type": "stream",
     "text": [
      "1 2 3 4 5 6 7 8 9 10 \n",
      "Contador: 10\n"
     ]
    }
   ],
   "source": [
    "#EXEMPLO\n",
    "\n",
    "contador = 0\n",
    "for i in range(1,11):\n",
    "    contador += 1 #Isto também pode ser escrito na forma contador = contador + 1\n",
    "    print(i,end=\" \")\n",
    "print(f\"\\nContador: {contador}\")"
   ]
  },
  {
   "cell_type": "markdown",
   "id": "476e614b",
   "metadata": {},
   "source": [
    "#### Somadores\n",
    "\n",
    "Ok! Mas e se nosso objetivo for somar os números que fizeram parte de uma contagem? Para isso, podemos usar uma estrutura similar ao contador, os somadores! Sua sintaxe se dá da seguinte forma:\n",
    "\n",
    "```Python\n",
    "somador = 0\n",
    "for i in range(inicio,fim):\n",
    "    soma = soma + i\n",
    "    código a ser executado\n",
    "```\n",
    "Vamos ver o funcionamento do somador em um exemplo:"
   ]
  },
  {
   "cell_type": "code",
   "execution_count": 16,
   "id": "f0d166b5",
   "metadata": {},
   "outputs": [
    {
     "name": "stdout",
     "output_type": "stream",
     "text": [
      "1 2 3 4 5 6 7 8 9 10 \n",
      "Soma: 55\n"
     ]
    }
   ],
   "source": [
    "soma = 0\n",
    "\n",
    "for i in range(1,11):\n",
    "    soma = soma + i\n",
    "    print(i,end=\" \")\n",
    "print(f\"\\nSoma: {soma}\")"
   ]
  },
  {
   "cell_type": "markdown",
   "id": "20438be2",
   "metadata": {},
   "source": [
    "> Tente mais uma vez, brincar com os valores do ```range()``` para ver o que acontece!\n",
    "\n",
    "#### Utilizando o While\n",
    "\n",
    "O ```while``` também é uma estrutura de repetição, porém, ela se dá de forma **infinita**, a menos que seja quebrada ou uma condição satisfeita. Vamos ver como funciona sua sintaxe:\n",
    "\n",
    "\n",
    "enquanto condição for verdadeira:\n",
    "    execute este código\n",
    "\n",
    "É basicamente isso! Vamos ver então, como escrever na linguagem do ```Python```:\n",
    "```Python\n",
    "while True:\n",
    "    código a ser executado\n",
    "```\n",
    "\n",
    "Bem simples, não? Nessa demonstração, utilizamos o operador booleano ```True```, mas você pode substituílo por uma condição de sua preferência. Vamos aos exemplos:"
   ]
  },
  {
   "cell_type": "code",
   "execution_count": 17,
   "id": "9645ec34",
   "metadata": {},
   "outputs": [
    {
     "name": "stdout",
     "output_type": "stream",
     "text": [
      "Insira qualquer número acima de 15: 12\n",
      "O número digitado é menor do que 15! Tente Novamente\n",
      "Insira qualquer número acima de 15: 16\n"
     ]
    }
   ],
   "source": [
    "n = float(input(\"Insira qualquer número acima de 15: \"))\n",
    "while n < 15:\n",
    "    print(\"O número digitado é menor do que 15! Tente Novamente\")\n",
    "    n = float(input(\"Insira qualquer número acima de 15: \"))\n",
    "    \n"
   ]
  },
  {
   "cell_type": "markdown",
   "id": "89ffe08e",
   "metadata": {},
   "source": [
    "> Note que o ```loop``` é quebrado assim que o usuário digita um número maior do que 15, ou seja, assim que a condição se torna falsa!\n",
    "\n",
    "### Estruturas de Condição Aninhadas\n",
    "----------------------------\n",
    "Agora que já vimos como funcionam as estruturas de condição e de ```loop```, por que não unimos as duas? Podemos criar códigos que se repetem e, a cada repetição, chequem se uma condição é ou não verdadeira, para cada valor. Parece útil, não?\n",
    "\n",
    "O funcionamento dessas estruturas é muito simples, basta utilizar o que já aprendemos sobre ```loops``` e condições com ```if```:\n",
    "```\n",
    "para cada item em um intervalo:\n",
    "    se condição for verdadeira:\n",
    "        faça isso\n",
    "    se não:\n",
    "        faça isso\n",
    "```\n",
    "Usando as ferramentas do ```Python```, esss sintaxe se pareceria com isso:\n",
    "```Python\n",
    "for i in range(início,fim):\n",
    "    if condição == Verdadeira\n",
    "        executa código\n",
    "    else:\n",
    "        executa outro código\n",
    "```\n",
    "\n",
    "Para melhor entendimento, vamos fazer um exemplo:\n"
   ]
  },
  {
   "cell_type": "code",
   "execution_count": 19,
   "id": "01aa4ed5",
   "metadata": {},
   "outputs": [
    {
     "name": "stdout",
     "output_type": "stream",
     "text": [
      "1 é ímpar!\n",
      "2 é par!\n",
      "3 é ímpar!\n",
      "4 é par!\n",
      "5 é ímpar!\n",
      "6 é par!\n",
      "7 é ímpar!\n",
      "8 é par!\n",
      "9 é ímpar!\n",
      "10 é par!\n"
     ]
    }
   ],
   "source": [
    "#EXEMPLO\n",
    "#Par ou ìmpar?\n",
    "\n",
    "for x in range(1,11):\n",
    "    if x%2 == 0: #Se o resto da divisão de um número por 2 é 0, o número em questão deve ser par\n",
    "        print(f\"{x} é par!\")\n",
    "    else:\n",
    "        print(f\"{x} é ímpar!\") #Caso contrário, ele só pode ser ímpar!"
   ]
  },
  {
   "cell_type": "markdown",
   "id": "cde3d6df",
   "metadata": {},
   "source": [
    "### Ferramentas de Estruturas de Repetição\n",
    "--------------------\n",
    "Existem algumas ferramentas que podem ser bem úteis ao se usar uma estrutura de repetição. São elas o ```break``` e o ```continue```. Mas o que cada uma delas faz?\n",
    "\n",
    "* O ```break``` quebra um ```loop```, assim que uma condição ```if``` for satisfeita. <br> <br>\n",
    "* O ```continue``` simplesmente pula uma iteração para qual uma certa condição foi satisfeita, e continua a executar o restante do loop.\n",
    "\n",
    "Vamos ver como cada uma dessas ferramentas funcina:"
   ]
  },
  {
   "cell_type": "code",
   "execution_count": 6,
   "id": "7e1854ea",
   "metadata": {},
   "outputs": [
    {
     "name": "stdout",
     "output_type": "stream",
     "text": [
      "O número é 1\n",
      "O número é 2\n",
      "O número é 3\n",
      "O número é 4\n",
      "Fim do loop!\n"
     ]
    }
   ],
   "source": [
    "#EXEMPLO\n",
    "#break\n",
    "n = 0\n",
    "for n in range(1,11):\n",
    "    if n == 5:\n",
    "        break\n",
    "        \n",
    "    print(f\"O número é {n}\")\n",
    "\n",
    "print('Fim do loop!')"
   ]
  },
  {
   "cell_type": "markdown",
   "id": "501a08a3",
   "metadata": {},
   "source": [
    "> Note que o ```loop``` foi quebrado assim que a condição n = 5 foi satisfeita!\n",
    "\n",
    "Vamos ver agora o mesmo código em funcionamento, porém substituindo o ```break``` por ```continue```"
   ]
  },
  {
   "cell_type": "code",
   "execution_count": 8,
   "id": "43f9f27b",
   "metadata": {},
   "outputs": [
    {
     "name": "stdout",
     "output_type": "stream",
     "text": [
      "O número é 1\n",
      "O número é 2\n",
      "O número é 3\n",
      "O número é 4\n",
      "O número é 6\n",
      "O número é 7\n",
      "O número é 8\n",
      "O número é 9\n",
      "O número é 10\n",
      "Fim do loop!\n"
     ]
    }
   ],
   "source": [
    "#EXEMPLO\n",
    "#continue\n",
    "n = 0\n",
    "for n in range(1,11):\n",
    "    if n == 5:\n",
    "        continue\n",
    "        \n",
    "    print(f\"O número é {n}\")\n",
    "\n",
    "print('Fim do loop!')"
   ]
  },
  {
   "cell_type": "markdown",
   "id": "e6f0402d",
   "metadata": {},
   "source": [
    "> Note agora que, quando a condição n = 5 foi satisfeita, o código simplesmente ignorou essa iteração, e continuou a executar as seguintes!\n",
    "\n",
    "Existe também mais uma ferramenta, chamada ```pass```, que serve como uma ferramenta para ignorar totalmente uma linha de código. Isso é útil quando queremos que o código simplesmente ignore quando uma condição for satisfeita."
   ]
  },
  {
   "cell_type": "code",
   "execution_count": 7,
   "id": "9ede96a0",
   "metadata": {},
   "outputs": [
    {
     "name": "stdout",
     "output_type": "stream",
     "text": [
      "O número é 1\n",
      "O número é 2\n",
      "O número é 3\n",
      "O número é 4\n",
      "O número é 5\n",
      "O número é 6\n",
      "O número é 7\n",
      "O número é 8\n",
      "O número é 9\n",
      "O número é 10\n",
      "Fim do loop!\n"
     ]
    }
   ],
   "source": [
    "#EXEMPLO\n",
    "#pass\n",
    "n = 0\n",
    "for n in range(1,11):\n",
    "    if n == 5:\n",
    "        pass\n",
    "        \n",
    "    print(f\"O número é {n}\")\n",
    "\n",
    "print('Fim do loop!')"
   ]
  },
  {
   "cell_type": "markdown",
   "id": "13d44169",
   "metadata": {},
   "source": [
    "> Perceba que o código checou a condição n = 5, e simplesmente não realizou nenhuma ação!\n",
    "\n",
    "### Definindo Funções\n",
    "---------------\n",
    "Imagine que você está criando um código para suprir suas necessidades, sejam elas quais forem, e se depara com uma situação onde a solução para a implementação de alguma ferramenta dentro do seu código, seja exatamente a mesma de algo que você já havia feito nele. O que você faria? Provavelmente apenas copiaria e colaria o código não é? Mas, e se você precisasse fazer isso várias e várias vezes? Bom, existe uma solução muito mais eficiente, uma ferramenta chamada ```def``` <br> <br>\n",
    "\n",
    "Com o ```def``` podemos definir funções no python, juntamente com suas variáveis, dar um nome a elas, e simplesmente depois, só chamá-las de volta. Assim o código fica mais organizado, simples e recursivo. Vamos ver como funciona a estrutura do ```def```? <br> <br>\n",
    "\n",
    "Em termos de lógica, o ```def``` funciona da seguinte forma:\n",
    "```\n",
    "definir uma função(x,y,z,w,...):\n",
    "    código usando as variáveis\n",
    "    retorne os seguintes valores\n",
    "```\n",
    "E para que o ```Python``` execute novamente essa função, basta:\n",
    "```\n",
    "função(valor de x, valor de y, valor de z, etc)\n",
    "```\n",
    "Porém, sabemos que na prática não é bem assim que funciona, então, como podemos fazer com que o ```Python``` entenda o que queremos dizer? Devemos escrever então, na forma de sintaxe:\n",
    "``` Python\n",
    "def funcao(x,y):\n",
    "    return x + y\n",
    "```\n",
    "\n",
    "Pode parecer algo complicado, mas acabamos de definir uma função que pega dois números, x e y e faz a soma entre eles. Vamos entender isso melhor em um exemplo:"
   ]
  },
  {
   "cell_type": "code",
   "execution_count": 12,
   "id": "72b95369",
   "metadata": {},
   "outputs": [
    {
     "data": {
      "text/plain": [
       "8"
      ]
     },
     "execution_count": 12,
     "metadata": {},
     "output_type": "execute_result"
    }
   ],
   "source": [
    "#EXEMPLO\n",
    "\n",
    "def soma(x,y): #definimos a função de soma\n",
    "    return x + y #retornamos como resultado o valor de x + y\n",
    "\n",
    "#Podemos agora chamar a função de volta, e pedir que ela faça a soma de quaisquer dois números que desejamos:\n",
    "\n",
    "soma(3,5)\n",
    "\n"
   ]
  },
  {
   "cell_type": "markdown",
   "id": "5cdbf07a",
   "metadata": {},
   "source": [
    "Pode parecer algo simples, e é, mas podemos criar ferramentas bem mais sofisticadas utilizando funções. Vamos criar por exemplo, uma função que pegue dois catetos, a e b, e calcule a hipotenusa."
   ]
  },
  {
   "cell_type": "code",
   "execution_count": 16,
   "id": "8971e624",
   "metadata": {},
   "outputs": [
    {
     "name": "stdout",
     "output_type": "stream",
     "text": [
      "A hipotenusa do triângulo é 5.83095\n"
     ]
    }
   ],
   "source": [
    "#EXEMPLO\n",
    "#Teorema de Pitágoras\n",
    "from math import sqrt\n",
    "def pitagoras(a,b):\n",
    "    a = a ** 2\n",
    "    b = b ** 2\n",
    "    hip = sqrt(a + b) # ao invés de importar a biblioteca, poderíamos ter feito: (a + b)**(1/2)\n",
    "    return hip\n",
    "    \n",
    "hipotenusa = pitagoras(3,5)\n",
    "print(f\"A hipotenusa do triângulo é {hipotenusa:.5f}\")"
   ]
  },
  {
   "cell_type": "markdown",
   "id": "ade5c89a",
   "metadata": {},
   "source": [
    "> Tente agora mudar os valores de a e b onde a função foi chamada e confira os resultados!\n",
    "\n",
    "### Listas\n",
    "---------------\n",
    "O ```Python``` conta com uma funcionalidade muito útil, as ```listas```, com elas, somos capazes de estocar valores, sejam eles números ou texto, e podemos acessá-los sempre que desejarmos, e fazer várias outras operações. Existem também as ```tuplas``` que funcionam da mesma forma que uma ```lista```, porém, as ```listas``` podem ter seus valores manipulados, diferente das ```tuplas```. Existem ainda os ```dicionários``` que relacionam valores entre si, porém neste minicurso daremos ênfase apenas às ```listas```, já que elas são uma das ferramentas que mais serão utilizadas por vocês no curso de Termodinãmica II! <br> <br>\n",
    "\n",
    "Como funciona a estrutura de uma lista? é bem simples, basta que se separem os valores por vírgulas, e se use colchetes, assim:\n",
    "```Python\n",
    "lista = [1,2,3,4,5,\"morango\",\"chocolate\",6,7,...]\n",
    "```\n",
    "Cada elemento dentro de uma ```lista```, tem sua posição definida, existem funções de manipulação de ```listas```, porém, estas também não serão foco deste minicurso. Como podemos então, acessar valores dentro de uma lista? <br> <br>\n",
    "\n",
    "Bem, se elemento dentro dela tem uma posição definida, e nós não desejamos e nem iremos manipular estes valores e posições, podemos acessar o valor desejado conhecendo apenas o nome da ```lista``` e a posição do elemento que queremos. Dessa forma, teremos a sintaxe:\n",
    "```Python\n",
    "lista[elemento]\n",
    "```\n",
    "> Devemos nos atentar ao fato de que o ```Python``` começa suas contagens a partir do número 0, sendo assim, **o primeiro elemento de uma ```lista``` sempre será o elemento 0**!\n",
    "\n",
    "Digamos então que temos uma lista como a do exemplo acima e queremos buscar nela os valores de \"morango\" e o número 3. Como faríamos?"
   ]
  },
  {
   "cell_type": "code",
   "execution_count": 23,
   "id": "f3a110de",
   "metadata": {},
   "outputs": [
    {
     "name": "stdout",
     "output_type": "stream",
     "text": [
      "morango\n",
      "3\n",
      "Como o python começa sua contagem a partir do número 0, o primeiro elemento da lista é: 1\n"
     ]
    }
   ],
   "source": [
    "#EXEMPLO\n",
    "\n",
    "variados = [1,2,3,4,5,\"morango\",\"chocolate\",6,7]\n",
    "print(variados[5]) #A posição da palavra morango é 5, pois o python começa sua contagem a partir do 0!\n",
    "print(variados[2])\n",
    "\n",
    "print(f\"Como o python começa sua contagem a partir do número 0, o primeiro elemento da lista é: {variados[0]}\")"
   ]
  },
  {
   "cell_type": "markdown",
   "id": "c7d32929",
   "metadata": {},
   "source": [
    "> Note que a sintaxe é da forma lista[elemento], porém o nome da ```lista``` é \"variados\", por isso a sintaxe fica desta forma. Tente mudar agora os valores das posições nos ```prints```, ou até mesmo os valores dentro da ```lista```, para ver o que acontece!"
   ]
  },
  {
   "cell_type": "markdown",
   "id": "7351e9ff",
   "metadata": {},
   "source": [
    "#### Listas Vazias\n",
    "-------------\n",
    "Da mesma forma que podemos criar ```listas``` com vários elementos, podemos também criar ```listas``` vazias, e adicionar os elementos desejados com um módulo chamado ```append()```. O ```append()``` pega um valor, seja ele calculado ou não pelo código, e inclui na lista. Isso é muito útil quando por exemplo, queremos estocar vários valores calculados por outras ```funções``` já inclusas no código, para usar em um momento futuro, mas, vale ressaltar que este módulo não está limitado a isso, e pode ser usado de outras maneiras. <br> <br>\n",
    "\n",
    "Para criar a estrutura de uma ```lista``` vazia, basta dar um nome a ela, e deixar o espaço entre os colchetes vazios:\n",
    "```Python\n",
    "lista = []\n",
    "```\n",
    "Para adicionar um determinado valor à ```lista```, devemos utilizar o comando ```append()```:\n",
    "```Python\n",
    "lista = []\n",
    "lista.append(valor)\n",
    "```\n",
    "\n",
    "Vamos ver como funciona o comando ```append()``` melhor na prática:"
   ]
  },
  {
   "cell_type": "code",
   "execution_count": 1,
   "id": "46ad88d4",
   "metadata": {},
   "outputs": [
    {
     "name": "stdout",
     "output_type": "stream",
     "text": [
      "[]\n",
      "['Python']\n"
     ]
    }
   ],
   "source": [
    "#EXEMPLO\n",
    "\n",
    "lista = [] #A lista está vazia\n",
    "print(lista)\n",
    "\n",
    "lista.append(\"Python\") #Adicionamos a palavra Python na lista\n",
    "print(lista)"
   ]
  },
  {
   "cell_type": "markdown",
   "id": "da6d65ee",
   "metadata": {},
   "source": [
    "> Perceba que no primeiro ```print```, a lista se encontrava vazia, por isso o sinal de []. Porém, após usar o ```append()```, a lista estocou o valor que desejávamos!\n",
    "\n",
    "Podemos tornar essa implementação ainda mais interessante, aplicando estruturas de repetição em conjunto com as ```listas``` vazias. <br> <br>\n",
    "\n",
    "Suponhamos que já haja uma ```lista``` com valores pronta, e queremos executar uma determinada ação para cada elemento desta ```lista```, e após isto, estocar os novos valores calculados em outra lista. Como podemos fazer isso?\n",
    "```Python\n",
    "lista_1 = [x,y,z,w,t]\n",
    "lista_2 = []\n",
    "\n",
    "contador = -1\n",
    "for item in lista_1:\n",
    "    contador += 1\n",
    "    f = funçao()\n",
    "    lista_2.append(f)\n",
    "```\n",
    "\n",
    "Tudo bem, mas por que neste caso, o contador começa em -1? Bem, o ```Python``` começa suas contagens a partir do número 0, se lembram? E o primeiro elemento de uma lista sempre será o elemento [0]. Como o contador é atualizado a cada iteração, se ele começasse em 1, após a primeira iteração ele já se tornaria 2, e assim por diante o que nos geraria um problema de indexação! <br> <br>\n",
    "\n",
    "Vamos ver essa sintaxe aplicada a um exemplo, para melhor entendermos o que está ocorrendo no código:"
   ]
  },
  {
   "cell_type": "code",
   "execution_count": 4,
   "id": "68d69c4a",
   "metadata": {},
   "outputs": [
    {
     "name": "stdout",
     "output_type": "stream",
     "text": [
      "[3, 5, 7, 9, 11]\n"
     ]
    }
   ],
   "source": [
    "#EXEMPLO\n",
    "#Transformando números pares em seus sucessores ímpares\n",
    "\n",
    "n_pares = [2,4,6,8,10]\n",
    "n_impares = [] #lista vazia\n",
    "\n",
    "def conversor(n):\n",
    "    return n + 1\n",
    "\n",
    "contador = -1\n",
    "for item in n_pares:\n",
    "    contador += 1\n",
    "    c = conversor(n_pares[contador])\n",
    "    n_impares.append(c)\n",
    "    \n",
    "print(n_impares)\n",
    "    \n",
    "    \n"
   ]
  },
  {
   "cell_type": "markdown",
   "id": "e063ff4c",
   "metadata": {},
   "source": [
    "> Vale ressaltar que o código poderia ter sido feita de maneira muito mais simples, porém, foi implementado desta maneira de forma a exemplificar as funcionalidades já aprendidas durante o minicurso! <br> <br>\n",
    "> Tente agora, mudar o número inicial do contador para 0, para ver o que irá ocorrer!\n",
    "\n",
    "#### A Função len()\n",
    "--------------------\n",
    "Em alguns casos, pode ser bem útil para efeitos de cálculo, saber o tamanho de uma ```lista```. Isto é, o número de elementos que estão contidos nela. Para isso, fazemos uso da função ```len()```! O ```len()``` é uma função nativa do ```Python``` que conta o tamanho das coisas, por assim dizer. ele pode ser aplicado em outros casos, mas vamos ver sua aplicação para as listas. <br> <br>\n",
    "A utilização dessa ferramenta é bem simples, basta fazer o seguinte:\n",
    "```Python\n",
    "lista = [1,2,3,4,5,6,7,8]\n",
    "print(len(lista))\n",
    "```\n",
    "O resultado disso, será um número inteiro, ou seja, do tipo ```int```."
   ]
  },
  {
   "cell_type": "code",
   "execution_count": 5,
   "id": "cff90acd",
   "metadata": {},
   "outputs": [
    {
     "name": "stdout",
     "output_type": "stream",
     "text": [
      "A lista tem 8 elementos\n"
     ]
    }
   ],
   "source": [
    "#EXEMPLO\n",
    "\n",
    "numeros = [1,2,3,4,5,6,7,8]\n",
    "\n",
    "if len(numeros) == 1:\n",
    "    print(\"A lista possúi apenas 1 elemento!\")\n",
    "elif len(numeros) == 0:\n",
    "    print(\"A lista está vazia!\")\n",
    "else:\n",
    "    print(f\"A lista tem {len(numeros)} elementos\")"
   ]
  },
  {
   "cell_type": "markdown",
   "id": "3196de34",
   "metadata": {},
   "source": [
    "## A Biblioteca NumPy\n",
    "---------------------------\n",
    "A ```biblioteca``` ```NumPy``` oferece alguns recursos de computação científica, e cálculo numérico que serão bem úteis para nós neste minicurso. Com o ```NumPy```, é possível por exemplo criar ```arrays```, resolver integrais, ajustar curvas e muito mais. Algumas das funcionalidades dessa ```biblioteca``` serão abordadas no minicurso, porém, sintam-se a vontade para estudar mais sobre ela acessando o site oficial: <https://numpy.org>\n",
    "\n",
    "### Importando a biblioteca\n",
    "---------------\n",
    "Já sabemos importar bibliotecas, porém para efeito de padronização da linguagem utilizada no minicurso, faremos as importações do ```NumPy``` da seguinte forma:\n",
    "```Python\n",
    "import numpy as np\n",
    "```\n",
    "Agora, sempre que quisermos utilizar algum módulo da ```biblioteca```, não escreveremos numpy.módulo e sim np.módulo, tudo bem?\n",
    "\n",
    "### Arrays\n",
    "---------------------\n",
    "Os ```arrays``` funcionam como vetores no ```Python```, com eles, somos capazes de realizar operações que não seriam tão simples utilizando ```listas```. Como por exemplo, a utilização desses elementos em uma operação complexa. <br> <br>\n",
    "Para utilizar os ```arrays``` no ```Python```, basta que criemos uma ```lista``` e depois, façamos a conversão dela em um ```array```:\n",
    "```Python\n",
    "temperaturas = [273.15,298.15,300,438.17,519.62]\n",
    "t = np.array(temperaturas)\n",
    "```\n",
    "Pronto, dessa forma, nossa ```lista``` já foi convertida em um ```array```!\n",
    "\n",
    "### Encontrando as Raízes de uma Equação\n",
    "----------------------\n",
    "Com a biblioteca ```NumPy``` podemos de maneira simples encontrar as raízes de uma equação, para isso, iremos utilizar o módulo ```roots()```! Mas como isso funciona? Bem, precisamos primeiro de um passo a passo:\n",
    "\n",
    "1. Identificar os coeficientes polinomiais\n",
    "2. Separar estes coeficientes em uma lista ordenada\n",
    "3. Aplicar o módulo ```roots()```\n",
    "\n",
    "Porém, a depender da equação, podem haver resultados imaginários, que não apresentam sentido físico, e, por isso, devem ser descartados, para estes casos, aprenderemos mais a frente uma forma de tratamento, utilizando outra biblioteca. <br> <br>\n",
    "\n",
    "Vamos agora, ver como funciona esse passo a passo? Suponhamos que é de nosso interesse encontrar as raízes da sequinte equação:<br><br>\n",
    "$x^3 + 3x^2 - 5x + 7$\n",
    "\n",
    "Segundo o passo a passo, primeiro, devemos identificar os coeficientes polinomiais. ou seja, a grosso modo, os números ou expressões que acompanham os nossos valores de $x$. Desta forma, para esta equação, devemos observar qual é o termo que acompanha $x^3$, após isso, o termo relativo a $x^2$, e assim sucessivamente, até que alcancemos o termo independente.<br><br>\n",
    "\n",
    "Podemos então dizer que os coeficientes desta equação são: 1, 3, -5 e 7. <br><br>\n",
    "\n",
    "Agora, com os coeficientes já identificados, devemos criar uma lista ordenada com eles, de forma que o primeiro elemento da lista, seja relativo ao primeiro termo, e assim por diante, de maneira geral:<br><br>\n",
    "$ax^3$ + $bx^2$ + $cx$ + $d$ <br><br>\n",
    "\n",
    "Assim, nossa lista seria da forma:\n",
    "```\n",
    "coeficientes[a,b,c,d]\n",
    "```\n",
    "\n",
    "Escrevendo a sintaxe, teríamos:\n",
    "```Python\n",
    "coeficientes = [1,3,-5,7]\n",
    "```\n",
    "\n",
    "Finalmente, nosso último passo, é aplicar o módulo ```roots()```:\n",
    "```Python\n",
    "coeficientes = [1,3,-5,7]\n",
    "np.roots(coeficientes)\n",
    "```\n",
    "Na prática, nosso programa ficaria assim:"
   ]
  },
  {
   "cell_type": "code",
   "execution_count": 1,
   "id": "56d77a69",
   "metadata": {},
   "outputs": [
    {
     "name": "stdout",
     "output_type": "stream",
     "text": [
      "[-4.46922023+0.j          0.73461011+1.01322097j  0.73461011-1.01322097j]\n"
     ]
    }
   ],
   "source": [
    "#EXEMPLO\n",
    "import numpy as np\n",
    "\n",
    "coeficientes = [1,3,-5,7]\n",
    "raizes = np.roots(poly)\n",
    "\n",
    "print(raizes)"
   ]
  },
  {
   "cell_type": "markdown",
   "id": "f20718bd",
   "metadata": {},
   "source": [
    "> Note que as raízes podem apresentar valores do tipo x.xxxx + y.yyyyj. A primeira parte do número, é relativa a sua **parcela real**, já a parte que é acompanhada por \"j\", remete à **parcela imaginária** deste número. o que significa, que no exemplo acima, tivemos apenas 1 raiz real, já que o valor imaginário é 0!\n",
    "\n",
    "## A Biblioteca SymPy\n",
    "-------------------------\n",
    "A ```biblioteca``` ```SymPy``` oferece soluções semelhantes em relação à ```biblioteca``` ```NumPy```, porém, a principal diferença entre eles é que o ```NumPy``` utiliza matemática computacional, e o ```SymPy``` por sua vez, utiliza matemática simbólica. Ambos têm funções muito parecidas, e em vários casos, até mesmo iguais. <br><br>\n",
    "\n",
    "### Tratamento das Raízes de uma Equação\n",
    "--------------------\n",
    "Existe apenas uma função do ```SymPy``` que será abordada neste minicurso, a função ```simplify()```. Como o nome já diz, o módulo ```simplify``` é útil quando queremos escrever uma determinada equação, de uma forma mais simples, porém, a estrela da vez não é a função em si, mas sim uma ferramenta que pode ser utilizada junto a ela, a ferramenta ```is_real()```.<br><br>\n",
    "\n",
    "Com esta ferramenta, seremos capazes de fazer o tratamento das raízes obtidas pelo módulo ```roots()```, separando apenas as raízes reais, que são de nosso interesse.<br><br>\n",
    "\n",
    "Como as raízes são estocadas em uma ```lista```, em tese, deveríamos utilizar um ```loop``` ```for``` juntamente com estruturas condicionais ```if```. Mas para facilitar as coisas, criaremos uma ```lista``` que já faz essa função automaticamente para cada elemento, de forma aninhada e simples. Para fazer isto, basta usar a sintaxe:\n",
    "```Python\n",
    "[n for n in lista if sympy.simplify(n).is_real]\n",
    "```\n",
    "Dessa forma, uma nova ```lista``` que contém apenas as raízes reais será criada. Vamos conferir, então, como ficaria o código para o cálculo das raízes reais de uma equação:"
   ]
  },
  {
   "cell_type": "code",
   "execution_count": 5,
   "id": "f9b61b44",
   "metadata": {},
   "outputs": [
    {
     "name": "stdout",
     "output_type": "stream",
     "text": [
      "[(-4.469220226746073+0j)]\n"
     ]
    }
   ],
   "source": [
    "#EXEMPLO\n",
    "import numpy as np\n",
    "from sympy import simplify #importamos apenas o módulo simplify, já que será o único que iremos utilizar\n",
    "\n",
    "coeficientes = [1,3,-5,7]\n",
    "raizes = np.roots(poly)\n",
    "r = [n for n in raizes if simplify(n).is_real]\n",
    "print(r)"
   ]
  },
  {
   "cell_type": "markdown",
   "id": "0dbcaaa8",
   "metadata": {},
   "source": [
    "> Compare o resultado deste código com o resultado do código anterior, ambos são iguais, diferindo apenas no fato de que as raízes, neste caso, foram tratadas.\n",
    "\n",
    "## Plotando Gráficos\n",
    "----------------------------\n",
    "Com o ```matplotlib.pyplot``` somos capazes de criar gráficos dentro do ```Python```, esta biblioteca é muito útil para a vizualização dos dados obtidos, e também, para realizar ajustes de curvas, que veremos mais a frente.<br><br>\n",
    "Para evitar de escrever ```matplotlib.pyplot.módulo``` toda vez que utilizarmos alguma funcionalidade desta biblioteca, recomendamos a importação da mesma da seguinte forma:\n",
    "```Python\n",
    "import matplotlib.pyplot as plt\n",
    "```\n",
    "Assim, sempre que formos utilizar suas funções, podemos apenas chamar por ```plt.módulo```.\n",
    "\n",
    "### Plotando Pontos e Curvas\n",
    "-------------------------\n",
    "Usando o ```plt``` podemos fazer a plotagem de pontos e curvas, bem como manipulá-los dentro do ```Python```. Como vamos abordar apenas gráficos 2D neste minicurso estes comandos estão limitados a dois eixos, bem como seus atributos para uma maior personalização dos gráficos.<br><br>\n",
    "\n",
    "* Para plotar **pontos** utilizamos o módulo ```scatter()```\n",
    "* Para plotar **curvas** utilizamos o módulo ```plot()```\n",
    "\n",
    "> **É importante ressaltar, que para que a biblioteca funcione, para gráficos 2D, devemos ter 2 conjuntos de dados, ambos com o mesmo número de elementos ou pontos, para que assim, cada $x$ tenha um $f(x)$ correspondente. Caso contrário, o ```Python``` retornará um erro!**\n",
    "\n",
    "#### O scatter()\n",
    "----------------------\n",
    "Os dados tanto devem ser armazenados em ```arrays```, feito isso, podemos começar a plotagem dos pontos. Para fazer a plotagem de pontos, basta que utilizemos a sintaxe:\n",
    "```Python\n",
    "plt.scatter(x,y)\n",
    "```\n",
    "\n",
    "> Note que x e y são valores arbitrários, estes valores recebem o mesmo nome que foi dado à variável que estoca os seus dados, **porém a sintaxe se dá sempre da forma em que o primeiro valor é o valor do eixo x e o segundo o valor do eixo y!**\n",
    "\n",
    "#### O plot()\n",
    "---------------------\n",
    "A plotagem de curvas é feita de forma análoga a plotagem de pontos, diferindo apenas da função utilizada na sintaxe:\n",
    "```Python\n",
    "plt.plot(x,y)\n",
    "```\n",
    "\n",
    "#### Imprimindo o Resultado\n",
    "Para que o gráfico programado seja aberto na tela, é necessário o uso de um comando, este comando é o ```show()```, e sua sintaxe se dá simplesmente por:\n",
    "```Python\n",
    "plt.show()\n",
    "```\n",
    "> **Este é o último comando que deve ser digitado, para que o gráfico apareça com todas as configurações previamente feitas!**\n",
    "\n",
    "Vamos agora ver como ficaria um gráfico utilizando estes dois módulos:"
   ]
  },
  {
   "cell_type": "code",
   "execution_count": 6,
   "id": "9337bfd3",
   "metadata": {},
   "outputs": [
    {
     "data": {
      "image/png": "[encoded data removed]",
      "text/plain": [
       "<Figure size 640x480 with 1 Axes>"
      ]
     },
     "metadata": {},
     "output_type": "display_data"
    }
   ],
   "source": [
    "#EXEMPLO\n",
    "import numpy as np\n",
    "import matplotlib.pyplot as plt\n",
    "\n",
    "x = np.array([0,0.1,0.2,0.4,0.6,0.8])\n",
    "r = np.array([0.45,0.37,0.30,0.195,0.113,0.05])\n",
    "\n",
    "#Plotando o gráfico com pontos\n",
    "plt.scatter(x,r)\n",
    "plt.plot(x,r)\n",
    "plt.show()"
   ]
  },
  {
   "cell_type": "code",
   "execution_count": null,
   "id": "fe1fb42e",
   "metadata": {},
   "outputs": [],
   "source": []
  },
  {
   "cell_type": "markdown",
   "id": "37af37be",
   "metadata": {},
   "source": [
    "E aí? Não parece faltar algo? É por isso que agora veremos como personalizar melhor o nosso gráfico, e deixá-lo mais apresentável!\n",
    "\n",
    "### Personalizando Gráficos\n",
    "------------------------\n",
    "Existem alguns outros comandos úteis no ```matplotlib``` que podemos utilizar para deixar a aparência do nosso gráfico mais agradável. Podemos por exemplo, inserir um título, legendas, nomes para os eixos e ainda, personalizar cores, tipos de linha, tipos de pontos e etc. Vamos ver como implementar essas funções?<br><br>\n",
    "\n",
    "Como já conhecemos a sintaxe da ```biblioteca```, vamos facilitar o uso destes comandos, criando uma estrutura em tópicos, que aborda todas essas funções, tudo bem?\n",
    "\n",
    "* Adicionando um Título: \n",
    "```Python \n",
    "plt.title(\"Título do Gráfico\")\n",
    "```\n",
    "* Adicionando Legendas:\n",
    "```Python\n",
    "plt.legend([\"Legenda da Cruva ou Ponto\",\"Legenda da Curva ou Ponto\"])\n",
    "```\n",
    "\n",
    "* Adicionando Nome para o Eixo x:\n",
    "```Python\n",
    "plt.xlabel(\"Nome do Eixo x\")\n",
    "```\n",
    "\n",
    "* Adicionando Nome para o Eixo y:\n",
    "```Python\n",
    "plt.ylabel(\"Nome do Eixo y\")\n",
    "```\n",
    "\n",
    "Os outros tipos de personalização abordados, são incluídos na forma de atributos dos comandos já anteriormente vistos, e serão abordados em breve. Primeiro, vamos ver agora, como ficaria o nosso gráfico:"
   ]
  },
  {
   "cell_type": "code",
   "execution_count": 24,
   "id": "efc27038",
   "metadata": {},
   "outputs": [
    {
     "data": {
      "image/png": "[encoded data removed]",
      "text/plain": [
       "<Figure size 640x480 with 1 Axes>"
      ]
     },
     "metadata": {},
     "output_type": "display_data"
    }
   ],
   "source": [
    "#EXEMPLO\n",
    "import numpy as np\n",
    "import matplotlib.pyplot as plt\n",
    "\n",
    "x = np.array([0,0.1,0.2,0.4,0.6,0.8])\n",
    "r = np.array([0.45,0.37,0.30,0.195,0.113,0.05])\n",
    "\n",
    "#Plotando o gráfico com pontos\n",
    "plt.scatter(x,r)\n",
    "plt.plot(x,r)\n",
    "plt.title(\"Gráfico Genérico\")\n",
    "plt.legend([\"Ponto\",\"Curva\"])\n",
    "plt.xlabel(\"Eixo x\")\n",
    "plt.ylabel(\"Eixo y\")\n",
    "plt.show()"
   ]
  },
  {
   "cell_type": "markdown",
   "id": "6c4d22ec",
   "metadata": {},
   "source": [
    "> Tente mudar os parâmetros do gráfico para personalizá-lo\n",
    "\n",
    "O gráfico já ficou bem mais interessante não é mesmo? Mas ainda podemos deixá-lo melhor, utilizando os atributos do ```plot()``` e do ```scatter```. É isso o que vamos ver agora! <br><br>\n",
    "\n",
    "Além de informar os pontos x e y nos módulos ```plot()``` e ```scatter()```, podemos também informar dados opcionais, que servem para personalizar nosso gráfico. Esses dados são os atributos, e podem vir em qualquer ordem após os pontos. Sua sintaxe se dá da forma:\n",
    "```Python\n",
    "plt.scatter(x,y, atributo1 = \"xxxxx\", atributo2 = \"xxxxx\")\n",
    "\n",
    "ou\n",
    "\n",
    "plt.plot((x,y, atributo1 = \"xxxxx\", atributo2 = \"xxxxx\")\n",
    "```\n",
    "\n",
    "Podemos usar vários atributos, como atributos de cor, marcador, opacidade, fundo de marcador, etc. Aqui vamos apresentar alguns deles:\n",
    "\n",
    "* Atributo de Cor: \n",
    "```Python\n",
    "color=\"cor desejada\"\n",
    "```\n",
    "> Lista completa de cores suportadas: <https://matplotlib.org/stable/gallery/color/named_colors.html>\n",
    "\n",
    "* Atributo de Marcador:\n",
    "```Python\n",
    "marker=\"tipo de marcador desejado\"\n",
    "```\n",
    "> Lista completa de marcadores suportados: <https://matplotlib.org/stable/api/markers_api.html>\n",
    "\n",
    "* Atributo de Espessura da Linha: \n",
    "```Python\n",
    "linewidth=\"espessura da linha desejada\"\n",
    "```\n",
    "> A espessura deve ser um número.\n",
    "\n",
    "* Atributo de Opacidade: \n",
    "```Python\n",
    "alpha=\"percentual de opacidade desejado\"\n",
    "```\n",
    "> Deve ser um número que varia de 0 a 1.\n",
    "\n",
    "* Atributo de Fundo de Marcador:\n",
    "```Python\n",
    "facecolor=\"cor de fundo do marcador desejada\"\n",
    "```\n",
    "> Pare remover o fundo, basta utilizar \"None\".\n",
    "\n",
    "* Atributo de Borda do Marcador:\n",
    "```Python\n",
    "edgecolor=\"cor da borda do marcador desejada\"\n",
    "```\n",
    "\n",
    "* Atributo de Sobreposição: \n",
    "```Python\n",
    "zorder=numero inteiro\n",
    "```\n",
    "> O zorder indica ao python quem deve ser plotado por cima de quem, um número maior significa que aplotagem será feita uma camada acima do anterior.\n",
    "\n",
    "Esses foram alguns dos atributos que podem ser usados junto ao ```plot()``` e ao ```scatter()```. A documentação completa da biblioteca pode ser acessada aqui: <https://matplotlib.org/stable/index.html>\n",
    "\n",
    "Vamos ver agora, como ficaria o nosso gráfico de maneira mais incrementada:\n",
    "\n"
   ]
  },
  {
   "cell_type": "code",
   "execution_count": 25,
   "id": "6e377149",
   "metadata": {},
   "outputs": [
    {
     "data": {
      "image/png": "[encoded data removed]",
      "text/plain": [
       "<Figure size 640x480 with 1 Axes>"
      ]
     },
     "metadata": {},
     "output_type": "display_data"
    }
   ],
   "source": [
    "#EXEMPLO\n",
    "import numpy as np\n",
    "import matplotlib.pyplot as plt\n",
    "\n",
    "x = np.array([0,0.1,0.2,0.4,0.6,0.8])\n",
    "r = np.array([0.45,0.37,0.30,0.195,0.113,0.05])\n",
    "\n",
    "#Plotando o gráfico com pontos\n",
    "\n",
    "plt.scatter(x,r,color = \"black\", marker = \"o\", zorder=2, facecolor=\"None\")\n",
    "plt.plot(x,r,color = \"orange\", zorder=1)\n",
    "plt.title(\"Gráfico Genérico\")\n",
    "plt.legend([\"Ponto\",\"Curva\"])\n",
    "\n",
    "plt.show()"
   ]
  },
  {
   "cell_type": "markdown",
   "id": "949034a9",
   "metadata": {},
   "source": [
    "Bem melhor, não acham?\n",
    "\n",
    "## A Biblioteca SciPy\n",
    "--------------------------------\n",
    "O ```SciPy``` é uma ```biblioteca``` complementar ao ```NumPy```, que dispõe de ferramentas adicionais para a computação com ```arrays``` além de outras funcionalidades mais. Neste minicurso, abordaremos a utilização desta ```biblioteca``` para a resolução de integrais simples e ajustes de curvas.<br><br>\n",
    "\n",
    "Por se tratar de uma biblioteca com vários pacotes, iremos realizar a importação dela da seguinte forma:\n",
    "```Python\n",
    "from scipy.pacote import módulo\n",
    "```\n",
    "Assim podemos utilizar somente a ferramenta que importamos.\n",
    "\n",
    "### Integrando com o Python\n",
    "---------------------------------\n",
    "Iremos, neste minicurso, abordar apenas a resolução de integrais simples, porém o ```SciPy``` também é capaz de fazer resoluções de integrais múltiplas. A documentação completa desta ```biblioteca``` pode ser conferida no link: <https://scipy.org>\n",
    "\n",
    "Para que possamos fazer a integração de uma equação utilizando o ```SciPy```, devemos primeiro definir uma função, que retorne o valor da integral a ser calculada:\n",
    "```Python\n",
    "def função(x):\n",
    "    return equação\n",
    "```\n",
    "Agora, basta que utilizemos o módulo ```quad``` do pacote ```scipy.integrate``` e especifiquemos a função que queremos integrar, bem como os limites de integração:\n",
    "```Python\n",
    "quad(função,limite inferior, limite superior)\n",
    "```\n",
    "Podemos ainda, visualizar o gráfico da equação em questão, utilizando outras ferramentas do ```SciPy```, mas isto não será abordado neste minicurso.<br><br>\n",
    "\n",
    "Vamos então, ver em fim, como funciona essa sintaxe no ```Python```:\n"
   ]
  },
  {
   "cell_type": "code",
   "execution_count": 27,
   "id": "0a011ec1",
   "metadata": {},
   "outputs": [
    {
     "name": "stdout",
     "output_type": "stream",
     "text": [
      "O resultado da integral é: (0.37500000000000006, 4.163336342344338e-15)\n"
     ]
    }
   ],
   "source": [
    "#EXEMPLO\n",
    "#Integrando uma função\n",
    "\n",
    "from scipy.integrate import quad\n",
    "\n",
    "def func(x):\n",
    "    return 1/pow(x,3)\n",
    "\n",
    "resultado = quad(func,1,2)\n",
    "print(f\"O resultado da integral é: {resultado}\")"
   ]
  },
  {
   "cell_type": "markdown",
   "id": "1b7248fb",
   "metadata": {},
   "source": [
    "> A resposta dada pela ferramenta ```quad``` nos apresenta 2 valores. O primeiro, representa o resultado calculado da integral, e o segundo, representa o erro relacionado a este resultado.\n",
    "\n",
    "### Ajustes de Curvas\n",
    "--------------------------\n",
    "Muitas vezes, pode ser do nosso interesse fazer a otimização de curvas, dados pontos em um plano, para que se chegue a uma função que determine matematicamente o nosso evento com a maior aproximação possível da realidade. Para isso, recorremos a ajustes de curvas.<br><br>\n",
    "\n",
    "Para se fazer o ajuste de uma curva, iremos seguir um passo a passo:\n",
    "\n",
    "1. Separar os dados dos pontos em ```arrays```, para ambos os eixos cartesianos\n",
    "2. Plotar os pontos para escolher uma boa equação inicial\n",
    "3. Definir uma equação em forma genérica, para ser otimizada\n",
    "4. Fazer um chute inicial e encontrar os parâmetros que otimizam a equação\n",
    "5. Plotar o gráfico da curva já otimizada, e definir se o resultado foi satisfatório\n",
    "\n",
    "#### Passo 1\n",
    "---------------------\n",
    "Primeiramente, separam-se os dados em ```arrays``` utilizando o ```NumPy```:\n",
    "```Python\n",
    "x = np.array([x1,x2,x3,x4,x5])\n",
    "y = np.array([y1,y2,y3,y4,y5])\n",
    "```\n",
    "#### Passo 2\n",
    "---------------------\n",
    "Neste passo fazemos a plotagem dos pontos dos nossos dados experimentais utilizando a ferramenta ```scatter()``` para que possamos definir uma boa equação para iniciar o ajuste. Caso essa, ao final dos passos, não represente de maneira satisfatória o comportamento dos pontos, devemos voltar a este passo e ajustá-la até que haja um bom resultado final.\n",
    "\n",
    "#### Passo 3\n",
    "---------------------\n",
    "Em seguida, devemos definir uma equação genérica, para que se encontrem os parâmetros que otimizam a curva:\n",
    "```Python\n",
    "def optimize(x,a,b,c,d,...)\n",
    "    return a*x^4 + b*x^3 + c*ln(x) + d #Esta é uma equação genérica\n",
    "```\n",
    "#### Passo 4\n",
    "---------------------\n",
    "Fazemos um chute inicial, geralmente, dada a eficiência da ferramenta, podemos assumir o valor de 1 para cada um dos chutes dos coeficientes:\n",
    "```Python\n",
    "chute = [1,1,1,1] #Chutamos 4 valores, dado que são 4 parãmetros na equação genérica\n",
    "```\n",
    "\n",
    "Para encontrar os parâmetros que otimizam a curva, devemos fazer uso do módulo ```curve_fit```. Desta forma, a sintaxe se dá por:\n",
    "```Python\n",
    "params,params_covariance = curve_fit(função a ser otimizada,x,y,chute) #Queremos os parâmetros e sua covariancia\n",
    "```\n",
    "Devemos também, definir quem são os parãmetros no código, fazemos isso dessa forma: \n",
    "```Python\n",
    "a = params[0]\n",
    "b = params[1]\n",
    "c = params[2]\n",
    "d = params[3]\n",
    "```\n",
    "\n",
    "#### Passo 5\n",
    "----------------------\n",
    "Resta agora apenas plotar a curva utilizando as ferramentas da ```bibiloteca``` ```matplotlib```!<br><br>\n",
    "\n",
    "Vamos ver como fazer o ajuste de curva na prática:\n"
   ]
  },
  {
   "cell_type": "code",
   "execution_count": 53,
   "id": "fed57e8b",
   "metadata": {},
   "outputs": [
    {
     "data": {
      "image/png": "[encoded data removed]",
      "text/plain": [
       "<Figure size 640x480 with 1 Axes>"
      ]
     },
     "metadata": {},
     "output_type": "display_data"
    },
    {
     "data": {
      "image/png": "[encoded data removed]",
      "text/plain": [
       "<Figure size 640x480 with 1 Axes>"
      ]
     },
     "metadata": {},
     "output_type": "display_data"
    }
   ],
   "source": [
    "#EXEMPLO\n",
    "import numpy as np\n",
    "import matplotlib.pyplot as plt\n",
    "from scipy.optimize import curve_fit\n",
    "\n",
    "x = np.array([0,0.2,0.4,0.5,0.6,0.7,0.8])\n",
    "y = np.array([2.1,3.6,5.1,5.1,5.1,3.9,2.4])\n",
    "\n",
    "#Pontos\n",
    "plt.scatter(x,y)\n",
    "plt.show()\n",
    "\n",
    "#Equação a ser otimizada\n",
    "def optimize(x,a,b,c,d,e):\n",
    "    return a*pow(x,4) + b*pow(x,3) + c*pow(x,2) + d*x + e\n",
    "\n",
    "#Parâmetros\n",
    "guess = [1,1,1,1,1] #chute inicial para os parâmetros\n",
    "params,params_covariance = curve_fit(optimize,x,y,guess)\n",
    "\n",
    "a = params[0]\n",
    "b = params[1]\n",
    "c = params[2]\n",
    "d = params[3]\n",
    "e = params[4]\n",
    "\n",
    "#Plotagem da Curva Otimizada\n",
    "plt.scatter(x,y, color = \"black\",alpha=0.8,marker = \"o\", facecolors = \"none\",zorder = 2)\n",
    "plt.plot(x,optimize(x,a,b,c,d,e), color=\"orange\",zorder = 1)\n",
    "plt.show()"
   ]
  },
  {
   "cell_type": "markdown",
   "id": "7f7ec19a",
   "metadata": {},
   "source": [
    "> Caso precisemos saber os coeficientes, podemos facilmente pedir ao programa que faça a impressão deles!"
   ]
  },
  {
   "cell_type": "code",
   "execution_count": null,
   "id": "b84cfd71",
   "metadata": {},
   "outputs": [],
   "source": []
  }
 ],
 "metadata": {
  "kernelspec": {
   "display_name": "Python 3 (ipykernel)",
   "language": "python",
   "name": "python3"
  },
  "language_info": {
   "codemirror_mode": {
    "name": "ipython",
    "version": 3
   },
   "file_extension": ".py",
   "mimetype": "text/x-python",
   "name": "python",
   "nbconvert_exporter": "python",
   "pygments_lexer": "ipython3",
   "version": "3.9.13"
  }
 },
 "nbformat": 4,
 "nbformat_minor": 5
}
